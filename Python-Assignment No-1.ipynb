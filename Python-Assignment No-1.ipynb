{
 "cells": [
  {
   "cell_type": "code",
   "execution_count": null,
   "id": "dbc96b57",
   "metadata": {},
   "outputs": [],
   "source": [
    "\"\"\"\n",
    "1. In the below elements which of them are values or an expression? eg:- values can be integer or string and expressions will be mathematical operators.\n",
    "* \n",
    "'hello'\n",
    "-87.8\n",
    "- \n",
    "/ \n",
    "+\t\n",
    "6 \n",
    "\"\"\"\n",
    "\n",
    "\"\"\"\n",
    "Ans- *- expression\n",
    "    'hello'-value\n",
    "    -87.8- value\n",
    "    -  expression\n",
    "    / expression\n",
    "    + expression\n",
    "    6 value\n",
    "    \n",
    "\"\"\"\n",
    "    \n"
   ]
  },
  {
   "cell_type": "code",
   "execution_count": null,
   "id": "2c253451",
   "metadata": {},
   "outputs": [],
   "source": [
    "# 2. What is the difference between string and variable?\n",
    "\n",
    "\"\"\"\n",
    "Ans- Variable are like container that store values of different data types .\n",
    "like a=10,b=\"Ritesh\" a and b are variable that are storing integer and string values respectively ,a and b are creating a space in memory to store this two values\n",
    "whereas string is a data type in which values are kept in \" \" or ' '.\n",
    "\n",
    "\"\"\""
   ]
  },
  {
   "cell_type": "code",
   "execution_count": null,
   "id": "f07dd60f",
   "metadata": {},
   "outputs": [],
   "source": [
    "# 3. Describe three different data types.\n",
    "\n",
    "\"\"\"\n",
    "Ans- 1. Integer data type stores integer values like 1,2,3,....n ,-1,-2.....-n.\n",
    "eg- a=10   type(a)=int\n",
    "\n",
    "2. String data type store values like name,place - any sentence. to define string data type values are given in double quote \" \" or single ' '\n",
    "b=\"Ritesh\" or 'Ritesh' type(b)=str\n",
    "\n",
    "3. Float data type store decimal values like 10.0,4.567,67.9 etc.\n",
    "  eg c=22.89  type(c)= float\n",
    "\n",
    "\"\"\""
   ]
  },
  {
   "cell_type": "code",
   "execution_count": null,
   "id": "88960fce",
   "metadata": {},
   "outputs": [],
   "source": [
    "\n",
    "# 4. What is an expression made up of? What do all expressions do?\n",
    "\"\"\"\n",
    "Ans- Expressions are combination of operators and operands that get evaluated to give result in a single value.\n",
    "\n",
    "c=a+b   here a,b= operands and + is operator\n",
    "suppose a= 10, b=5 so, c= a+b --> c= 10+5---> c=15 \n",
    "result came as c= 15 in single value\n",
    "\n",
    "In any programming language, an expression is evaluated as per the precedence of its operators\n",
    "\n",
    "\"\"\""
   ]
  },
  {
   "cell_type": "code",
   "execution_count": null,
   "id": "805e3b03",
   "metadata": {},
   "outputs": [],
   "source": [
    "# 5. This assignment statements, like spam = 10. What is the difference between an expression and a statement?\n",
    "\n",
    "\"\"\"\n",
    "Ans- Expressions are combination of operators and operands that get evaluated to give result in a single value.\n",
    "\n",
    "eg c=a+b   here a,b= operands and + is operator\n",
    "suppose a= 10, b=5 so, c= a+b --> c= 10+5---> c=15 \n",
    "result came as c= 15 in single value\n",
    "\n",
    "eg. if(a>b)    expression\n",
    "    print(a+b)   print is statement but a+b is expression.\n",
    "    else\n",
    "    print(a-b)\n",
    "    \n",
    "A statement is like a instruction that the user wants to convey to compiler.\n",
    "\n",
    "eg spam=10 is a statement\n",
    "   print(\"Hi everyone\")  is a statement"
   ]
  },
  {
   "cell_type": "code",
   "execution_count": 4,
   "id": "948015c2",
   "metadata": {},
   "outputs": [
    {
     "data": {
      "text/plain": [
       "23"
      ]
     },
     "execution_count": 4,
     "metadata": {},
     "output_type": "execute_result"
    }
   ],
   "source": [
    "#6. After running the following code, what does the variable bacon contain?\n",
    "bacon = 22\n",
    "bacon + 1\n",
    "\n",
    "# Ans- balcon will contain 23"
   ]
  },
  {
   "cell_type": "code",
   "execution_count": 5,
   "id": "56c6e7da",
   "metadata": {},
   "outputs": [
    {
     "name": "stdout",
     "output_type": "stream",
     "text": [
      "Object `be` not found.\n"
     ]
    },
    {
     "data": {
      "text/plain": [
       "'spamspamspam'"
      ]
     },
     "execution_count": 5,
     "metadata": {},
     "output_type": "execute_result"
    }
   ],
   "source": [
    "7. What should the values of the following two terms be?\n",
    "'spam' + 'spamspam'\n",
    "'spam' * 3\n",
    "\n",
    "# Ans- spamspamspam\n",
    "     #- spamspamspam"
   ]
  },
  {
   "cell_type": "code",
   "execution_count": 6,
   "id": "01e7f21d",
   "metadata": {},
   "outputs": [
    {
     "data": {
      "text/plain": [
       "'spamspamspam'"
      ]
     },
     "execution_count": 6,
     "metadata": {},
     "output_type": "execute_result"
    }
   ],
   "source": [
    "'spam' * 3"
   ]
  },
  {
   "cell_type": "code",
   "execution_count": 7,
   "id": "adeb393c",
   "metadata": {},
   "outputs": [
    {
     "name": "stdout",
     "output_type": "stream",
     "text": [
      "100\n",
      "100\n"
     ]
    }
   ],
   "source": [
    "# 8. Why is eggs a valid variable name while 100 is invalid?\n",
    "\n",
    "eggs=100\n",
    "print(eggs)\n",
    "\n",
    "#- eggs can be variable name beacuse it is not breaking the rule of variable definition.\n",
    "\n",
    "# we can assign \n",
    "eggs_100=100\n",
    "\n",
    "print(eggs_100)\n",
    "\n",
    "#but not variable name as 100 beacuse a variable name cannot start with number. cannot assign to literal.\n"
   ]
  },
  {
   "cell_type": "code",
   "execution_count": 8,
   "id": "65915a8a",
   "metadata": {},
   "outputs": [
    {
     "ename": "SyntaxError",
     "evalue": "cannot assign to literal (233780559.py, line 3)",
     "output_type": "error",
     "traceback": [
      "\u001b[1;36m  Input \u001b[1;32mIn [8]\u001b[1;36m\u001b[0m\n\u001b[1;33m    100=100\u001b[0m\n\u001b[1;37m    ^\u001b[0m\n\u001b[1;31mSyntaxError\u001b[0m\u001b[1;31m:\u001b[0m cannot assign to literal\n"
     ]
    }
   ],
   "source": [
    "# see the error when we are assigning variable name as 100;\n",
    "\n",
    "100=100"
   ]
  },
  {
   "cell_type": "code",
   "execution_count": null,
   "id": "4fd2289e",
   "metadata": {},
   "outputs": [],
   "source": []
  }
 ],
 "metadata": {
  "kernelspec": {
   "display_name": "Python 3 (ipykernel)",
   "language": "python",
   "name": "python3"
  },
  "language_info": {
   "codemirror_mode": {
    "name": "ipython",
    "version": 3
   },
   "file_extension": ".py",
   "mimetype": "text/x-python",
   "name": "python",
   "nbconvert_exporter": "python",
   "pygments_lexer": "ipython3",
   "version": "3.9.12"
  }
 },
 "nbformat": 4,
 "nbformat_minor": 5
}
