{
 "cells": [
  {
   "cell_type": "code",
   "execution_count": 3,
   "id": "10e3685a",
   "metadata": {},
   "outputs": [
    {
     "name": "stdout",
     "output_type": "stream",
     "text": [
      "<class 'bool'>\n",
      "<class 'bool'>\n"
     ]
    }
   ],
   "source": [
    "# 1.What are the two values of the Boolean data type? How do you write them?\n",
    "\n",
    "\"\"\"\n",
    "Ans- Two values of Boolean type are True and False.\n",
    "     True is treated as 1 and False is taken as 0.\n",
    "     \n",
    "     we would write boolean values by using the keyword- bool.\n",
    "      for example\"\"\"\n",
    "\n",
    "a=True\n",
    "b=False\n",
    "\n",
    "print(type(a))\n",
    "print(type(b))"
   ]
  },
  {
   "cell_type": "code",
   "execution_count": null,
   "id": "b3b67334",
   "metadata": {},
   "outputs": [],
   "source": [
    "# 2. What are the three different types of Boolean operators?\n",
    "\n",
    "\"\"\"\n",
    "Ans- Three different Boolean operators are AND, OR and NOT."
   ]
  },
  {
   "cell_type": "code",
   "execution_count": null,
   "id": "8b451a3c",
   "metadata": {},
   "outputs": [],
   "source": [
    "# 3\n",
    "\"\"\"\n",
    "3. Make a list of each Boolean operator's truth tables (i.e. every possible combination of Boolean values for the operator and what it evaluate ).\n",
    "\n",
    "i. AND\n",
    "  a  b (a AND b)\n",
    "  1  1     1\n",
    "  1  0     0\n",
    "  0  1     0\n",
    "  0  0     0\n",
    "  \n",
    "ii. OR\n",
    "  a  b (a OR  b)\n",
    "  1  1     1\n",
    "  1  0     1\n",
    "  0  1     1\n",
    "  0  0     0\n",
    "\n",
    "iii. NOT\n",
    "  a  NOT(a)\n",
    "  1  0        \n",
    "  0  1     \n",
    "       \n",
    "\n",
    "\n"
   ]
  },
  {
   "cell_type": "code",
   "execution_count": 8,
   "id": "6874c5b0",
   "metadata": {},
   "outputs": [
    {
     "name": "stdout",
     "output_type": "stream",
     "text": [
      "False\n",
      "False\n",
      "True\n",
      "False\n",
      "False\n",
      "True\n"
     ]
    }
   ],
   "source": [
    "\"\"\"\n",
    "4. What are the values of the following expressions?\n",
    "a. (5 > 4) and (3 == 5)\n",
    "b. not (5 > 4)\n",
    "c. (5 > 4) or (3 == 5)\n",
    "d. not ((5 > 4) or (3 == 5))\n",
    "e. (True and True) and (True == False)\n",
    "f. (not False) or (not True)\"\"\"\n",
    "\n",
    "\"\"\"\n",
    "Ans- \n",
    "a. False\n",
    "b. False\n",
    "c. True\n",
    "d. False\n",
    "e. False\n",
    "f. True \"\"\"\n",
    "\n",
    "# Checking by Code.\n",
    "\n",
    "print((5 > 4) and (3 == 5))\n",
    "print(not (5 > 4))\n",
    "print((5 > 4) or (3 == 5))\n",
    "print(not ((5 > 4) or (3 == 5)))\n",
    "print((True and True) and (True == False))\n",
    "print((not False) or (not True))\n"
   ]
  },
  {
   "cell_type": "code",
   "execution_count": null,
   "id": "dcd2234a",
   "metadata": {},
   "outputs": [],
   "source": [
    "# 5. What are the six comparison operators?\n",
    "\"\"\"\n",
    " 1.less than (<)\n",
    " 2.greater than (>)\n",
    " 3.less than or equal to (<=)\n",
    " 4.greater than or equal to  (>=)\n",
    " 5.equal to (==)\n",
    " 6. not equal to (!=) operator."
   ]
  },
  {
   "cell_type": "code",
   "execution_count": 1,
   "id": "50b8d1a9",
   "metadata": {},
   "outputs": [
    {
     "name": "stdout",
     "output_type": "stream",
     "text": [
      "5\n"
     ]
    },
    {
     "data": {
      "text/plain": [
       "False"
      ]
     },
     "execution_count": 1,
     "metadata": {},
     "output_type": "execute_result"
    }
   ],
   "source": [
    "# 6. How do you tell the difference between the equal to and assignment operators ?Describe a condition and when you would use one.\n",
    "\"\"\"\n",
    "# Ans-The assignment operator is used to assign the value to the variable . Assignment works from right to left.\n",
    "a=5 ---> Here value 5 is assigned to a\n",
    "\n",
    "Equal to (==) checks wheter the two given opearnds are equal or not.\n",
    "It returns true or false\n",
    "for example:\"\"\"\n",
    "a=5 # assignment operator\n",
    "print(a)\n",
    "\n",
    "b=6\n",
    "a==b # Equal to operators."
   ]
  },
  {
   "cell_type": "code",
   "execution_count": 10,
   "id": "1326eb74",
   "metadata": {},
   "outputs": [
    {
     "name": "stdout",
     "output_type": "stream",
     "text": [
      "ham\n",
      "spam\n",
      "spam\n"
     ]
    }
   ],
   "source": [
    "\"\"\"\n",
    "7. Identify the three blocks in this code:\n",
    "spam = 0\n",
    "if spam == 10:\n",
    "print('eggs')\n",
    "if spam > 5:\n",
    "print('bacon')\n",
    "else:\n",
    "print('ham')\n",
    "print('spam')\n",
    "print('spam')\n",
    "\n",
    "\"\"\"\n",
    "\"\"\"\n",
    "Ans-\n",
    "three blocks in this code\n",
    "\n",
    "spam = 0\n",
    "if spam == 10:\n",
    "{\n",
    "print('eggs')\n",
    "}\n",
    "if spam > 5:\n",
    "{\n",
    "print('bacon')\n",
    "}\n",
    "else:\n",
    "{\n",
    "print('ham')\n",
    "}\n",
    "print('spam')\n",
    "print('spam')\n",
    "\n",
    "\"\"\"\n",
    "spam=0\n",
    "if spam==10:\n",
    "    {\n",
    "        print(\"eggs\")\n",
    "    }\n",
    "    if spam>5:\n",
    "        {\n",
    "            print(\"bacon\")\n",
    "        }\n",
    "else:\n",
    "    {\n",
    "        print(\"ham\")\n",
    "    }\n",
    "           \n",
    "        \n",
    "print(\"spam\")\n",
    "print(\"spam\")"
   ]
  },
  {
   "cell_type": "code",
   "execution_count": 13,
   "id": "6ce15f23",
   "metadata": {
    "scrolled": true
   },
   "outputs": [
    {
     "name": "stdout",
     "output_type": "stream",
     "text": [
      "enter spam number: 2\n",
      "Howdy\n"
     ]
    }
   ],
   "source": [
    "\"\"\"\n",
    "8. Write code that prints Hello if 1 is stored in spam, \n",
    "prints Howdy if 2 is stored in spam, \n",
    "and prints Greetings! if anything else is stored in spam.\n",
    "\"\"\"\n",
    "spam=int(input(\"enter spam number: \"))\n",
    "if spam==1:\n",
    "    print(\"Hello\")\n",
    "if spam==2:\n",
    "    print(\"Howdy\")\n",
    "else:\n",
    "    print(\"Greetings\")\n"
   ]
  },
  {
   "cell_type": "code",
   "execution_count": null,
   "id": "4c094e14",
   "metadata": {},
   "outputs": [],
   "source": [
    "# 9.If your programme is stuck in an endless loop, what keys you’ll press?\n",
    "\n",
    "# Ans- Example of endless loop\n",
    "while True:\n",
    "    print(\"Hello World\")\n",
    "    break\n",
    "    \n",
    "# To stop endless loop we will press ctrl+c or put break statement\n",
    "\n",
    "\n"
   ]
  },
  {
   "cell_type": "code",
   "execution_count": 9,
   "id": "d8ecd9ec",
   "metadata": {},
   "outputs": [
    {
     "name": "stdout",
     "output_type": "stream",
     "text": [
      "0\n",
      "1\n",
      "2\n",
      "3\n"
     ]
    }
   ],
   "source": [
    "#10. How can you tell the difference between break and continue?\n",
    "\n",
    "\"\"\"\n",
    "When the break keyword is encountered ,the control exists from the loop. It stops the execution of the loop at condition given.\n",
    "\n",
    "When the continue keyword is encounterd,the control  remains within the loop.It is used to skip a particular iteration of the loop.\n",
    "\n",
    "example:\n",
    "\"\"\"\n",
    "# example of break statement- loop is terminated as soon as it encounterd 4\n",
    "for i in range(0,10):\n",
    "    if i==4:\n",
    "        break\n",
    "    print(i)\n",
    "\n",
    "\n"
   ]
  },
  {
   "cell_type": "code",
   "execution_count": 8,
   "id": "a1f56342",
   "metadata": {},
   "outputs": [
    {
     "name": "stdout",
     "output_type": "stream",
     "text": [
      "0\n",
      "1\n",
      "2\n",
      "3\n",
      "5\n",
      "6\n",
      "7\n",
      "8\n",
      "9\n"
     ]
    }
   ],
   "source": [
    "# Example of continue statement\n",
    "for i in range(0,10): # Loop ,control remains within the loop and skips the iterable i.e did not print 4\n",
    "    if i==4:\n",
    "        continue\n",
    "    print(i)"
   ]
  },
  {
   "cell_type": "code",
   "execution_count": 20,
   "id": "b19ac45b",
   "metadata": {},
   "outputs": [
    {
     "name": "stdout",
     "output_type": "stream",
     "text": [
      "[0, 1, 2, 3, 4, 5, 6, 7, 8, 9]\n",
      "[0, 1, 2, 3, 4, 5, 6, 7, 8, 9]\n",
      "[0, 1, 2, 3, 4, 5, 6, 7, 8, 9]\n"
     ]
    }
   ],
   "source": [
    "\"\"\" In a for loop, what is the difference between \n",
    "range(10), range(0, 10), and range(0, 10, 1)?\"\"\"\n",
    "print(list(range(10)))  # here by default starting point is 0 and jump is 1 by default\n",
    "print(list(range(0,10))) # here starting point is 0 and jump is 1 by default\n",
    "print(list(range(0,10,1))) #here starting point is 0 and jump is 1 given\n",
    "\n",
    "# all will give list of [0,1,2,3,4,5,6,7,8,9]\n"
   ]
  },
  {
   "cell_type": "code",
   "execution_count": 21,
   "id": "41f5eeb0",
   "metadata": {},
   "outputs": [
    {
     "name": "stdout",
     "output_type": "stream",
     "text": [
      "1\n",
      "2\n",
      "3\n",
      "4\n",
      "5\n",
      "6\n",
      "7\n",
      "8\n",
      "9\n",
      "10\n"
     ]
    }
   ],
   "source": [
    "\"\"\"\n",
    "12. Write a short program that prints the numbers\n",
    "1 to 10 using a for loop. \n",
    "Then write an equivalent program that \n",
    "prints the numbers 1 to 10 using a while loop.\"\"\"\n",
    "\n",
    "#12.a  Code-print 1 to 10 using for loop\n",
    "for i in range(1,11):\n",
    "    print(i)\n",
    "    \n"
   ]
  },
  {
   "cell_type": "code",
   "execution_count": 22,
   "id": "db7c4277",
   "metadata": {},
   "outputs": [
    {
     "name": "stdout",
     "output_type": "stream",
     "text": [
      "1\n",
      "2\n",
      "3\n",
      "4\n",
      "5\n",
      "6\n",
      "7\n",
      "8\n",
      "9\n",
      "10\n"
     ]
    }
   ],
   "source": [
    "# 12.b Code-print 1 to 10 using while  loop\n",
    "a=1\n",
    "b=10\n",
    "while a<=b:\n",
    "    print(a)\n",
    "    a=a+1"
   ]
  },
  {
   "cell_type": "code",
   "execution_count": null,
   "id": "ed9ab91b",
   "metadata": {},
   "outputs": [],
   "source": [
    "\"\"\"\n",
    "13. If you had a function named bacon() inside a \n",
    "module named spam, how would you call \n",
    "it after importing spam?\n",
    "\"\"\"\n",
    "# Function can be called by this statement:\n",
    "# spam.bacon()"
   ]
  }
 ],
 "metadata": {
  "kernelspec": {
   "display_name": "Python 3 (ipykernel)",
   "language": "python",
   "name": "python3"
  },
  "language_info": {
   "codemirror_mode": {
    "name": "ipython",
    "version": 3
   },
   "file_extension": ".py",
   "mimetype": "text/x-python",
   "name": "python",
   "nbconvert_exporter": "python",
   "pygments_lexer": "ipython3",
   "version": "3.9.12"
  }
 },
 "nbformat": 4,
 "nbformat_minor": 5
}
